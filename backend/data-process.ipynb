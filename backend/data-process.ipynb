{
 "cells": [
  {
   "cell_type": "code",
   "execution_count": 3,
   "metadata": {},
   "outputs": [],
   "source": [
    "import pandas as pd"
   ]
  },
  {
   "cell_type": "code",
   "execution_count": 4,
   "metadata": {},
   "outputs": [],
   "source": [
    "\n",
    "def process_cct_data(file_path):\n",
    "    # Load the Excel file\n",
    "    xls = pd.ExcelFile(file_path)\n",
    "    \n",
    "    all_data = []\n",
    "    \n",
    "    # Process each sheet\n",
    "    for sheet in xls.sheet_names:\n",
    "        df = pd.read_excel(xls, sheet_name=sheet)\n",
    "        \n",
    "        # Strip spaces from column names\n",
    "        df.columns = df.columns.str.strip()\n",
    "\n",
    "        # Find the essay column dynamically (assuming it contains \"Essay\" in the name)\n",
    "        essay_column = [col for col in df.columns if \"Essay\" in col][0]\n",
    "\n",
    "        # Identify CCT columns dynamically (those ending with \"FINAL\")\n",
    "        cct_columns = [col for col in df.columns if col.endswith(\"FINAL\")]\n",
    "\n",
    "        for _, row in df.iterrows():\n",
    "            essay_text = row[essay_column]\n",
    "\n",
    "            # Extract sentences from the essay\n",
    "            if isinstance(essay_text, str):\n",
    "                sentences = [sent.strip() for sent in essay_text.split(\".\") if sent.strip()]\n",
    "            else:\n",
    "                continue\n",
    "\n",
    "            # Map each sentence to CCTs\n",
    "            sentence_cct_map = {}\n",
    "\n",
    "            for cct in cct_columns:\n",
    "                cct_text = row[cct]\n",
    "\n",
    "                if isinstance(cct_text, str):\n",
    "                    cct_sentences = [sent.strip() for sent in cct_text.split(\"/%/\") if sent.strip()]\n",
    "\n",
    "                    for sent in cct_sentences:\n",
    "                        if sent in sentence_cct_map:\n",
    "                            sentence_cct_map[sent].append(cct.replace(\" FINAL\", \"\").strip())  # Clean CCT name\n",
    "                        else:\n",
    "                            sentence_cct_map[sent] = [cct.replace(\" FINAL\", \"\").strip()]\n",
    "\n",
    "            # Store the processed data\n",
    "            for sentence, ccts in sentence_cct_map.items():\n",
    "                all_data.append({\"sentence\": sentence, \"CCTs\": \", \".join(ccts)})\n",
    "\n",
    "    # Convert to DataFrame\n",
    "    processed_df = pd.DataFrame(all_data)\n",
    "\n",
    "    return processed_df"
   ]
  },
  {
   "cell_type": "code",
   "execution_count": 5,
   "metadata": {},
   "outputs": [],
   "source": [
    "file_path = \"all_cap_b1.xlsx\"  # Replace with actual file path\n",
    "processed_df = process_cct_data(file_path)"
   ]
  },
  {
   "cell_type": "code",
   "execution_count": 7,
   "metadata": {},
   "outputs": [
    {
     "data": {
      "text/html": [
       "<div>\n",
       "<style scoped>\n",
       "    .dataframe tbody tr th:only-of-type {\n",
       "        vertical-align: middle;\n",
       "    }\n",
       "\n",
       "    .dataframe tbody tr th {\n",
       "        vertical-align: top;\n",
       "    }\n",
       "\n",
       "    .dataframe thead th {\n",
       "        text-align: right;\n",
       "    }\n",
       "</style>\n",
       "<table border=\"1\" class=\"dataframe\">\n",
       "  <thead>\n",
       "    <tr style=\"text-align: right;\">\n",
       "      <th></th>\n",
       "      <th>sentence</th>\n",
       "      <th>CCTs</th>\n",
       "    </tr>\n",
       "  </thead>\n",
       "  <tbody>\n",
       "    <tr>\n",
       "      <th>0</th>\n",
       "      <td>to better one self and be able to succeed late...</td>\n",
       "      <td>Aspirational</td>\n",
       "    </tr>\n",
       "    <tr>\n",
       "      <th>1</th>\n",
       "      <td>I always wanted to be able to help people and ...</td>\n",
       "      <td>Aspirational</td>\n",
       "    </tr>\n",
       "    <tr>\n",
       "      <th>2</th>\n",
       "      <td>I always wanted to be able to help people</td>\n",
       "      <td>Spiritual</td>\n",
       "    </tr>\n",
       "    <tr>\n",
       "      <th>3</th>\n",
       "      <td>I am also here because the formula to being su...</td>\n",
       "      <td>Aspirational</td>\n",
       "    </tr>\n",
       "    <tr>\n",
       "      <th>4</th>\n",
       "      <td>She made a lot of sacrifices for me to be here...</td>\n",
       "      <td>Filial Piety</td>\n",
       "    </tr>\n",
       "    <tr>\n",
       "      <th>...</th>\n",
       "      <td>...</td>\n",
       "      <td>...</td>\n",
       "    </tr>\n",
       "    <tr>\n",
       "      <th>95</th>\n",
       "      <td>I am here at SFSU due to its cinema program an...</td>\n",
       "      <td>Navigational</td>\n",
       "    </tr>\n",
       "    <tr>\n",
       "      <th>96</th>\n",
       "      <td>I am at San Francisco State because I wanted t...</td>\n",
       "      <td>Aspirational</td>\n",
       "    </tr>\n",
       "    <tr>\n",
       "      <th>97</th>\n",
       "      <td>I am taking this class because I needed to tak...</td>\n",
       "      <td>Navigational</td>\n",
       "    </tr>\n",
       "    <tr>\n",
       "      <th>98</th>\n",
       "      <td>I like the topic and think if really try do do...</td>\n",
       "      <td>Perserverance</td>\n",
       "    </tr>\n",
       "    <tr>\n",
       "      <th>99</th>\n",
       "      <td>My parents always encouraged and pushed me to ...</td>\n",
       "      <td>Familial</td>\n",
       "    </tr>\n",
       "  </tbody>\n",
       "</table>\n",
       "<p>100 rows × 2 columns</p>\n",
       "</div>"
      ],
      "text/plain": [
       "                                             sentence           CCTs\n",
       "0   to better one self and be able to succeed late...   Aspirational\n",
       "1   I always wanted to be able to help people and ...   Aspirational\n",
       "2           I always wanted to be able to help people      Spiritual\n",
       "3   I am also here because the formula to being su...   Aspirational\n",
       "4   She made a lot of sacrifices for me to be here...   Filial Piety\n",
       "..                                                ...            ...\n",
       "95  I am here at SFSU due to its cinema program an...   Navigational\n",
       "96  I am at San Francisco State because I wanted t...   Aspirational\n",
       "97  I am taking this class because I needed to tak...   Navigational\n",
       "98  I like the topic and think if really try do do...  Perserverance\n",
       "99  My parents always encouraged and pushed me to ...       Familial\n",
       "\n",
       "[100 rows x 2 columns]"
      ]
     },
     "execution_count": 7,
     "metadata": {},
     "output_type": "execute_result"
    }
   ],
   "source": [
    "processed_df.head(100)"
   ]
  },
  {
   "cell_type": "code",
   "execution_count": 8,
   "metadata": {},
   "outputs": [
    {
     "name": "stdout",
     "output_type": "stream",
     "text": [
      "Processed data saved to 'processed_cct_data.csv'\n"
     ]
    }
   ],
   "source": [
    "# Save processed data\n",
    "processed_df.to_csv(\"processed_cct_data.csv\", index=False)\n",
    "print(\"Processed data saved to 'processed_cct_data.csv'\")"
   ]
  },
  {
   "cell_type": "code",
   "execution_count": null,
   "metadata": {},
   "outputs": [],
   "source": []
  }
 ],
 "metadata": {
  "kernelspec": {
   "display_name": "Python 3",
   "language": "python",
   "name": "python3"
  },
  "language_info": {
   "codemirror_mode": {
    "name": "ipython",
    "version": 3
   },
   "file_extension": ".py",
   "mimetype": "text/x-python",
   "name": "python",
   "nbconvert_exporter": "python",
   "pygments_lexer": "ipython3",
   "version": "3.12.0"
  }
 },
 "nbformat": 4,
 "nbformat_minor": 2
}
